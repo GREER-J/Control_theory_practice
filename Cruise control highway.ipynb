{
 "cells": [
  {
   "cell_type": "code",
   "execution_count": 28,
   "metadata": {},
   "outputs": [
    {
     "name": "stdout",
     "output_type": "stream",
     "text": [
      "Quitting\n"
     ]
    },
    {
     "data": {
      "image/png": "[encoded data removed]",
      "text/plain": [
       "<Figure size 432x288 with 1 Axes>"
      ]
     },
     "metadata": {
      "needs_background": "light"
     },
     "output_type": "display_data"
    }
   ],
   "source": [
    "\"\"\"\n",
    "Speed control\n",
    "\"\"\"\n",
    "\n",
    "#Imports\n",
    "from matplotlib import pyplot as plt\n",
    "\n",
    "#Variables\n",
    "t0 = 0\n",
    "tMax = 1000\n",
    "dt = .5\n",
    "\n",
    "v0 = 80 * 5/18\n",
    "u0 = 1\n",
    "x0 = 0\n",
    "s0 = 100 * 5/18\n",
    "\n",
    "m = 1000\n",
    "motor_max = 1530\n",
    "c = 10\n",
    "\n",
    "condition = True\n",
    "time = []\n",
    "x_data = []\n",
    "v_data = []\n",
    "a_data = []\n",
    "\n",
    "#Pre-calculate \n",
    "t = t0\n",
    "v = v0\n",
    "x = x0\n",
    "u = u0\n",
    "\n",
    "#Functions\n",
    "\n",
    "\n",
    "#Loop\n",
    "while(condition):\n",
    "    #Controller\n",
    "    e = s - v\n",
    "    u = kp * e\n",
    "    \n",
    "    #System dynamics\n",
    "    a = ((u * motor_max) - (52.8*v - 690)) / m\n",
    "    v += a * dt\n",
    "    x += v * dt\n",
    "    \n",
    "    #Capture data\n",
    "    time.append(t)\n",
    "    v_data.append(v)\n",
    "    a_data.append(dvdt)\n",
    "    x_data.append(x)\n",
    "    \n",
    "    #update time\n",
    "    t += dt\n",
    "    \n",
    "    #Check exit conditions\n",
    "    if(t > tMax):\n",
    "        print(\"Quitting\")\n",
    "        condition = False\n",
    "\n",
    "#Output\n",
    "plt.plot(time, x_data)\n",
    "plt.title(\"Acceleration vs time\")\n",
    "plt.show()\n"
   ]
  },
  {
   "cell_type": "code",
   "execution_count": null,
   "metadata": {},
   "outputs": [],
   "source": []
  }
 ],
 "metadata": {
  "kernelspec": {
   "display_name": "Python 3",
   "language": "python",
   "name": "python3"
  },
  "language_info": {
   "codemirror_mode": {
    "name": "ipython",
    "version": 3
   },
   "file_extension": ".py",
   "mimetype": "text/x-python",
   "name": "python",
   "nbconvert_exporter": "python",
   "pygments_lexer": "ipython3",
   "version": "3.8.3"
  }
 },
 "nbformat": 4,
 "nbformat_minor": 4
}
