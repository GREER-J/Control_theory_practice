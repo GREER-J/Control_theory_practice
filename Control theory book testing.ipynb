{
 "cells": [
  {
   "cell_type": "code",
   "execution_count": 12,
   "metadata": {},
   "outputs": [
    {
     "name": "stdout",
     "output_type": "stream",
     "text": [
      "0.00990099009900991\n"
     ]
    },
    {
     "data": {
      "image/png": "[encoded data removed]",
      "text/plain": [
       "<Figure size 432x288 with 1 Axes>"
      ]
     },
     "metadata": {
      "needs_background": "light"
     },
     "output_type": "display_data"
    }
   ],
   "source": [
    "\"\"\"\n",
    "CH1 feedback control\n",
    " - Simple closed loop control test\n",
    "\"\"\"\n",
    "\n",
    "#Imports\n",
    "import numpy as np\n",
    "from matplotlib import pyplot as plt\n",
    "\n",
    "#Variables\n",
    "ts = np.linspace(1,10,100)\n",
    "\n",
    "H = 100\n",
    "K = 1\n",
    "y_ = 5\n",
    "\n",
    "y_data = []\n",
    "#Calculation\n",
    "for t in ts:\n",
    "    y = ((H * K) / (1 + H * K) * y_)\n",
    "    y_data.append(y)\n",
    "    \n",
    "#Output\n",
    "print((y_ - y_data[-1]) / y_) \n",
    "plt.plot(ts, y_data)\n",
    "plt.show()"
   ]
  },
  {
   "cell_type": "code",
   "execution_count": null,
   "metadata": {},
   "outputs": [],
   "source": []
  }
 ],
 "metadata": {
  "kernelspec": {
   "display_name": "Python 3",
   "language": "python",
   "name": "python3"
  },
  "language_info": {
   "codemirror_mode": {
    "name": "ipython",
    "version": 3
   },
   "file_extension": ".py",
   "mimetype": "text/x-python",
   "name": "python",
   "nbconvert_exporter": "python",
   "pygments_lexer": "ipython3",
   "version": "3.8.3"
  }
 },
 "nbformat": 4,
 "nbformat_minor": 4
}
